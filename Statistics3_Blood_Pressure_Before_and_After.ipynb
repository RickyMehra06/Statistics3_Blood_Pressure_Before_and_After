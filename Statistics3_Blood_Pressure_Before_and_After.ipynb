{
 "cells": [
  {
   "cell_type": "markdown",
   "id": "190190df",
   "metadata": {},
   "source": [
    "### Statistics 3: Blood Pressure Before and After\n",
    "\n",
    "Consider the ‘Blood Pressure Before’ and ‘Blood Pressure After’ columns from the data and calculate the following:\n",
    "\n",
    "https://drive.google.com/file/d/1mCjtYHiX--mMUjicuaP2gH3k-SnFxt8Y/view?usp=share_"
   ]
  },
  {
   "cell_type": "markdown",
   "id": "78ecf021",
   "metadata": {},
   "source": [
    "### 3(a) Measure the dispersion in both and interpret the results."
   ]
  },
  {
   "cell_type": "code",
   "execution_count": 1,
   "id": "3d5fad40",
   "metadata": {},
   "outputs": [
    {
     "data": {
      "text/html": [
       "<div>\n",
       "<style scoped>\n",
       "    .dataframe tbody tr th:only-of-type {\n",
       "        vertical-align: middle;\n",
       "    }\n",
       "\n",
       "    .dataframe tbody tr th {\n",
       "        vertical-align: top;\n",
       "    }\n",
       "\n",
       "    .dataframe thead th {\n",
       "        text-align: right;\n",
       "    }\n",
       "</style>\n",
       "<table border=\"1\" class=\"dataframe\">\n",
       "  <thead>\n",
       "    <tr style=\"text-align: right;\">\n",
       "      <th></th>\n",
       "      <th>BP_before</th>\n",
       "      <th>BP_after</th>\n",
       "    </tr>\n",
       "  </thead>\n",
       "  <tbody>\n",
       "    <tr>\n",
       "      <th>Low</th>\n",
       "      <td>120.000</td>\n",
       "      <td>118.0</td>\n",
       "    </tr>\n",
       "    <tr>\n",
       "      <th>Q1</th>\n",
       "      <td>128.000</td>\n",
       "      <td>123.0</td>\n",
       "    </tr>\n",
       "    <tr>\n",
       "      <th>Median</th>\n",
       "      <td>135.000</td>\n",
       "      <td>128.0</td>\n",
       "    </tr>\n",
       "    <tr>\n",
       "      <th>Q3</th>\n",
       "      <td>139.250</td>\n",
       "      <td>135.0</td>\n",
       "    </tr>\n",
       "    <tr>\n",
       "      <th>High</th>\n",
       "      <td>148.000</td>\n",
       "      <td>141.0</td>\n",
       "    </tr>\n",
       "    <tr>\n",
       "      <th>Dispersion</th>\n",
       "      <td>28.000</td>\n",
       "      <td>23.0</td>\n",
       "    </tr>\n",
       "    <tr>\n",
       "      <th>IQR</th>\n",
       "      <td>11.250</td>\n",
       "      <td>12.0</td>\n",
       "    </tr>\n",
       "    <tr>\n",
       "      <th>Lower_bound</th>\n",
       "      <td>122.375</td>\n",
       "      <td>117.0</td>\n",
       "    </tr>\n",
       "    <tr>\n",
       "      <th>Upper_bound</th>\n",
       "      <td>156.125</td>\n",
       "      <td>153.0</td>\n",
       "    </tr>\n",
       "  </tbody>\n",
       "</table>\n",
       "</div>"
      ],
      "text/plain": [
       "             BP_before  BP_after\n",
       "Low            120.000     118.0\n",
       "Q1             128.000     123.0\n",
       "Median         135.000     128.0\n",
       "Q3             139.250     135.0\n",
       "High           148.000     141.0\n",
       "Dispersion      28.000      23.0\n",
       "IQR             11.250      12.0\n",
       "Lower_bound    122.375     117.0\n",
       "Upper_bound    156.125     153.0"
      ]
     },
     "execution_count": 1,
     "metadata": {},
     "output_type": "execute_result"
    }
   ],
   "source": [
    "import pandas as pd\n",
    "import numpy as np\n",
    "\n",
    "df = pd.read_csv(\"BP_dataset.csv\")\n",
    "\n",
    "# Columns names have extra white space\n",
    "df.columns = df.columns.str.strip()\n",
    "\n",
    "summary_before = np.percentile(df[\"Blood Pressure Before (mmHg)\"], [0, 25, 50, 75, 100])\n",
    "summary_after = np.percentile(df[\"Blood Pressure After (mmHg)\"], [0, 25, 50, 75, 100])\n",
    "#print(summary_after)\n",
    "\n",
    "summary = {'BP_before': summary_before, 'BP_after': summary_after}\n",
    "\n",
    "data = pd.DataFrame(summary, index = ['Low', 'Q1', 'Median', 'Q3', 'High'])\n",
    "\n",
    "data.loc['Dispersion', 'BP_before'] = data[\"BP_before\"].max() - data[\"BP_before\"].min()\n",
    "data.loc['Dispersion', 'BP_after']  = data[\"BP_after\"].max() - data[\"BP_after\"].min()\n",
    "\n",
    "data.loc['IQR', 'BP_before'] = data.loc[\"Q3\", \"BP_before\"] - data.loc[\"Q1\", \"BP_before\"]\n",
    "data.loc['IQR', 'BP_after']  = data.loc[\"Q3\", \"BP_after\"] - data.loc[\"Q1\", \"BP_after\"]\n",
    "\n",
    "data.loc['Lower_bound', 'BP_before'] = data.loc[\"Q3\", \"BP_before\"] - 1.5 * data.loc[\"IQR\", \"BP_before\"]\n",
    "data.loc['Lower_bound', 'BP_after'] = data.loc[\"Q3\", \"BP_after\"] - 1.5 * data.loc[\"IQR\", \"BP_after\"]\n",
    "\n",
    "data.loc['Upper_bound', 'BP_before'] = data.loc[\"Q3\", \"BP_before\"] + 1.5 * data.loc[\"IQR\", \"BP_before\"]\n",
    "data.loc['Upper_bound', 'BP_after'] = data.loc[\"Q3\", \"BP_after\"] + 1.5 * data.loc[\"IQR\", \"BP_after\"]\n",
    "\n",
    "data"
   ]
  },
  {
   "cell_type": "markdown",
   "id": "97f4efa9",
   "metadata": {},
   "source": [
    "### 3(b) Calculate mean and 5% confidence interval and plot it in a graph"
   ]
  },
  {
   "cell_type": "code",
   "execution_count": 2,
   "id": "3456ed35",
   "metadata": {},
   "outputs": [],
   "source": [
    "## Ans 3b:\n",
    "\n",
    "bp_before_mean = df[\"Blood Pressure Before (mmHg)\"].mean()\n",
    "bp_before_std = df[\"Blood Pressure Before (mmHg)\"].std()\n",
    "\n",
    "bp_after_mean = df[\"Blood Pressure After (mmHg)\"].std()\n",
    "bp_after_std = df[\"Blood Pressure After (mmHg)\"].mean()"
   ]
  },
  {
   "cell_type": "markdown",
   "id": "30ac47be",
   "metadata": {},
   "source": [
    "Confidence_Interval = Mean ± (t * (Standard_Deviation / sqrt(n)))\n",
    "\n",
    "where,\n",
    "t is the critical value for the desired confidence level\n",
    "n is the sample size which 100\n",
    "\n",
    "The critical value can be obtained from the t-distribution table which is 1.984 for 5% confidence level"
   ]
  },
  {
   "cell_type": "code",
   "execution_count": 3,
   "id": "0f1e2867",
   "metadata": {},
   "outputs": [
    {
     "name": "stdout",
     "output_type": "stream",
     "text": [
      "confidence Interval for BP_before (132.60090164236462, 135.21909835763537)\n",
      "confidence Interval for BP_before (-18.578601897476776, 32.35464610252323)\n"
     ]
    }
   ],
   "source": [
    "CI_before = (bp_before_mean - (1.984*(bp_before_std/np.sqrt(100))), bp_before_mean + (1.984*(bp_before_std/np.sqrt(100))))\n",
    "print(f\"confidence Interval for BP_before {CI_before}\")\n",
    "\n",
    "CI_after = (bp_after_mean - (1.984*(bp_after_std/np.sqrt(100))), bp_after_mean + (1.984*(bp_after_std/np.sqrt(100))))\n",
    "print(f\"confidence Interval for BP_before {CI_after}\")"
   ]
  },
  {
   "cell_type": "markdown",
   "id": "b6c443e3",
   "metadata": {},
   "source": [
    "### 3(c) Calculate the Mean absolute deviation and Standard deviation and interpret the results"
   ]
  },
  {
   "cell_type": "code",
   "execution_count": 4,
   "id": "5620cd85",
   "metadata": {},
   "outputs": [
    {
     "name": "stdout",
     "output_type": "stream",
     "text": [
      "5.7118\n",
      "5.9\n",
      "6.598278012275075\n",
      "6.8880221025232276\n"
     ]
    }
   ],
   "source": [
    "# Ans 3c:\n",
    "\n",
    "# Mean Absolute Deviation (MAD): \n",
    "\n",
    "mad_before = np.mean(np.abs(df[\"Blood Pressure Before (mmHg)\"] - np.mean(df[\"Blood Pressure Before (mmHg)\"])))\n",
    "mad_after = np.mean(np.abs(df[\"Blood Pressure After (mmHg)\"] - np.mean(df[\"Blood Pressure After (mmHg)\"])))\n",
    "\n",
    "bp_before_std = df[\"Blood Pressure Before (mmHg)\"].std()\n",
    "bp_after_mean = df[\"Blood Pressure After (mmHg)\"].std()\n",
    "\n",
    "print(mad_before)\n",
    "print(mad_after)\n",
    "print(bp_before_std)\n",
    "print(bp_after_mean) "
   ]
  },
  {
   "cell_type": "markdown",
   "id": "cab73795",
   "metadata": {},
   "source": [
    "### 3(d) Calculate the correlation coefficient and check the significance of it at 1% level of significance."
   ]
  },
  {
   "cell_type": "code",
   "execution_count": 5,
   "id": "2b414a73",
   "metadata": {},
   "outputs": [
    {
     "name": "stdout",
     "output_type": "stream",
     "text": [
      "Correlation Coefficient: 0.9779485966556019\n",
      "p_value: 1.8097381433068541e-68\n",
      "Significance: Significant at 1% level\n"
     ]
    }
   ],
   "source": [
    "# Ans 3d:\n",
    "\n",
    "import scipy.stats as stats\n",
    "\n",
    "# Calculate the correlation coefficient and p-value using Pearson\n",
    "correlation_coefficient, p_value = stats.pearsonr(df[\"Blood Pressure Before (mmHg)\"], df[\"Blood Pressure After (mmHg)\"])\n",
    "\n",
    "# To check significance at 1% level\n",
    "if p_value < 0.01:\n",
    "    significance = \"Significant at 1% level\"\n",
    "else:\n",
    "    significance = \"Not significant at 1% level\"\n",
    "\n",
    "print(\"Correlation Coefficient:\", correlation_coefficient)\n",
    "print(\"p_value:\", p_value)\n",
    "print(\"Significance:\", significance)\n"
   ]
  }
 ],
 "metadata": {
  "kernelspec": {
   "display_name": "Python 3 (ipykernel)",
   "language": "python",
   "name": "python3"
  },
  "language_info": {
   "codemirror_mode": {
    "name": "ipython",
    "version": 3
   },
   "file_extension": ".py",
   "mimetype": "text/x-python",
   "name": "python",
   "nbconvert_exporter": "python",
   "pygments_lexer": "ipython3",
   "version": "3.9.13"
  }
 },
 "nbformat": 4,
 "nbformat_minor": 5
}
